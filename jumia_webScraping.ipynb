{
  "nbformat": 4,
  "nbformat_minor": 0,
  "metadata": {
    "colab": {
      "provenance": []
    },
    "kernelspec": {
      "name": "python3",
      "display_name": "Python 3"
    },
    "language_info": {
      "name": "python"
    }
  },
  "cells": [
    {
      "cell_type": "code",
      "source": [
        "!pip install playwright pandas\n",
        "!playwright install\n"
      ],
      "metadata": {
        "colab": {
          "base_uri": "https://localhost:8080/"
        },
        "id": "gcvZzNWoeym9",
        "outputId": "63c0361a-25d1-4f95-e7ff-5ea23967ae33"
      },
      "execution_count": null,
      "outputs": [
        {
          "output_type": "stream",
          "name": "stdout",
          "text": [
            "Collecting playwright\n",
            "  Downloading playwright-1.54.0-py3-none-manylinux1_x86_64.whl.metadata (3.5 kB)\n",
            "Requirement already satisfied: pandas in /usr/local/lib/python3.11/dist-packages (2.2.2)\n",
            "Collecting pyee<14,>=13 (from playwright)\n",
            "  Downloading pyee-13.0.0-py3-none-any.whl.metadata (2.9 kB)\n",
            "Requirement already satisfied: greenlet<4.0.0,>=3.1.1 in /usr/local/lib/python3.11/dist-packages (from playwright) (3.2.3)\n",
            "Requirement already satisfied: numpy>=1.23.2 in /usr/local/lib/python3.11/dist-packages (from pandas) (2.0.2)\n",
            "Requirement already satisfied: python-dateutil>=2.8.2 in /usr/local/lib/python3.11/dist-packages (from pandas) (2.9.0.post0)\n",
            "Requirement already satisfied: pytz>=2020.1 in /usr/local/lib/python3.11/dist-packages (from pandas) (2025.2)\n",
            "Requirement already satisfied: tzdata>=2022.7 in /usr/local/lib/python3.11/dist-packages (from pandas) (2025.2)\n",
            "Requirement already satisfied: typing-extensions in /usr/local/lib/python3.11/dist-packages (from pyee<14,>=13->playwright) (4.14.1)\n",
            "Requirement already satisfied: six>=1.5 in /usr/local/lib/python3.11/dist-packages (from python-dateutil>=2.8.2->pandas) (1.17.0)\n",
            "Downloading playwright-1.54.0-py3-none-manylinux1_x86_64.whl (45.9 MB)\n",
            "\u001b[2K   \u001b[90m━━━━━━━━━━━━━━━━━━━━━━━━━━━━━━━━━━━━━━━━\u001b[0m \u001b[32m45.9/45.9 MB\u001b[0m \u001b[31m21.4 MB/s\u001b[0m eta \u001b[36m0:00:00\u001b[0m\n",
            "\u001b[?25hDownloading pyee-13.0.0-py3-none-any.whl (15 kB)\n",
            "Installing collected packages: pyee, playwright\n",
            "Successfully installed playwright-1.54.0 pyee-13.0.0\n",
            "Downloading Chromium 139.0.7258.5 (playwright build v1181)\u001b[2m from https://cdn.playwright.dev/dbazure/download/playwright/builds/chromium/1181/chromium-linux.zip\u001b[22m\n",
            "\u001b[1G172.5 MiB [] 0% 0.0s\u001b[0K\u001b[1G172.5 MiB [] 0% 50.3s\u001b[0K\u001b[1G172.5 MiB [] 0% 25.2s\u001b[0K\u001b[1G172.5 MiB [] 0% 15.7s\u001b[0K\u001b[1G172.5 MiB [] 0% 9.7s\u001b[0K\u001b[1G172.5 MiB [] 1% 6.8s\u001b[0K\u001b[1G172.5 MiB [] 1% 5.4s\u001b[0K\u001b[1G172.5 MiB [] 2% 4.1s\u001b[0K\u001b[1G172.5 MiB [] 3% 3.5s\u001b[0K\u001b[1G172.5 MiB [] 4% 3.2s\u001b[0K\u001b[1G172.5 MiB [] 5% 3.2s\u001b[0K\u001b[1G172.5 MiB [] 6% 3.1s\u001b[0K\u001b[1G172.5 MiB [] 6% 3.0s\u001b[0K\u001b[1G172.5 MiB [] 7% 2.9s\u001b[0K\u001b[1G172.5 MiB [] 8% 2.8s\u001b[0K\u001b[1G172.5 MiB [] 8% 2.7s\u001b[0K\u001b[1G172.5 MiB [] 9% 2.6s\u001b[0K\u001b[1G172.5 MiB [] 10% 2.6s\u001b[0K\u001b[1G172.5 MiB [] 11% 2.5s\u001b[0K\u001b[1G172.5 MiB [] 11% 2.4s\u001b[0K\u001b[1G172.5 MiB [] 12% 2.4s\u001b[0K\u001b[1G172.5 MiB [] 13% 2.4s\u001b[0K\u001b[1G172.5 MiB [] 13% 2.3s\u001b[0K\u001b[1G172.5 MiB [] 14% 2.2s\u001b[0K\u001b[1G172.5 MiB [] 15% 2.2s\u001b[0K\u001b[1G172.5 MiB [] 16% 2.1s\u001b[0K\u001b[1G172.5 MiB [] 17% 2.1s\u001b[0K\u001b[1G172.5 MiB [] 18% 2.0s\u001b[0K\u001b[1G172.5 MiB [] 19% 2.0s\u001b[0K\u001b[1G172.5 MiB [] 20% 1.9s\u001b[0K\u001b[1G172.5 MiB [] 20% 2.0s\u001b[0K\u001b[1G172.5 MiB [] 21% 2.0s\u001b[0K\u001b[1G172.5 MiB [] 22% 1.9s\u001b[0K\u001b[1G172.5 MiB [] 23% 1.9s\u001b[0K\u001b[1G172.5 MiB [] 24% 1.9s\u001b[0K\u001b[1G172.5 MiB [] 25% 1.9s\u001b[0K\u001b[1G172.5 MiB [] 25% 1.8s\u001b[0K\u001b[1G172.5 MiB [] 27% 1.8s\u001b[0K\u001b[1G172.5 MiB [] 28% 1.7s\u001b[0K\u001b[1G172.5 MiB [] 29% 1.7s\u001b[0K\u001b[1G172.5 MiB [] 30% 1.6s\u001b[0K\u001b[1G172.5 MiB [] 31% 1.6s\u001b[0K\u001b[1G172.5 MiB [] 32% 1.6s\u001b[0K\u001b[1G172.5 MiB [] 33% 1.5s\u001b[0K\u001b[1G172.5 MiB [] 34% 1.5s\u001b[0K\u001b[1G172.5 MiB [] 35% 1.4s\u001b[0K\u001b[1G172.5 MiB [] 36% 1.4s\u001b[0K\u001b[1G172.5 MiB [] 38% 1.4s\u001b[0K\u001b[1G172.5 MiB [] 39% 1.3s\u001b[0K\u001b[1G172.5 MiB [] 40% 1.3s\u001b[0K\u001b[1G172.5 MiB [] 41% 1.3s\u001b[0K\u001b[1G172.5 MiB [] 42% 1.2s\u001b[0K\u001b[1G172.5 MiB [] 43% 1.2s\u001b[0K\u001b[1G172.5 MiB [] 44% 1.2s\u001b[0K\u001b[1G172.5 MiB [] 45% 1.1s\u001b[0K\u001b[1G172.5 MiB [] 46% 1.1s\u001b[0K\u001b[1G172.5 MiB [] 47% 1.1s\u001b[0K\u001b[1G172.5 MiB [] 48% 1.1s\u001b[0K\u001b[1G172.5 MiB [] 49% 1.0s\u001b[0K\u001b[1G172.5 MiB [] 50% 1.0s\u001b[0K\u001b[1G172.5 MiB [] 51% 1.0s\u001b[0K\u001b[1G172.5 MiB [] 52% 1.0s\u001b[0K\u001b[1G172.5 MiB [] 53% 1.0s\u001b[0K\u001b[1G172.5 MiB [] 54% 1.0s\u001b[0K\u001b[1G172.5 MiB [] 55% 0.9s\u001b[0K\u001b[1G172.5 MiB [] 56% 0.9s\u001b[0K\u001b[1G172.5 MiB [] 57% 0.9s\u001b[0K\u001b[1G172.5 MiB [] 58% 0.9s\u001b[0K\u001b[1G172.5 MiB [] 59% 0.8s\u001b[0K\u001b[1G172.5 MiB [] 60% 0.8s\u001b[0K\u001b[1G172.5 MiB [] 61% 0.8s\u001b[0K\u001b[1G172.5 MiB [] 62% 0.8s\u001b[0K\u001b[1G172.5 MiB [] 63% 0.7s\u001b[0K\u001b[1G172.5 MiB [] 64% 0.7s\u001b[0K\u001b[1G172.5 MiB [] 65% 0.7s\u001b[0K\u001b[1G172.5 MiB [] 66% 0.7s\u001b[0K\u001b[1G172.5 MiB [] 67% 0.7s\u001b[0K\u001b[1G172.5 MiB [] 68% 0.7s\u001b[0K\u001b[1G172.5 MiB [] 68% 0.6s\u001b[0K\u001b[1G172.5 MiB [] 69% 0.6s\u001b[0K\u001b[1G172.5 MiB [] 70% 0.6s\u001b[0K\u001b[1G172.5 MiB [] 71% 0.6s\u001b[0K\u001b[1G172.5 MiB [] 72% 0.6s\u001b[0K\u001b[1G172.5 MiB [] 73% 0.6s\u001b[0K\u001b[1G172.5 MiB [] 74% 0.6s\u001b[0K\u001b[1G172.5 MiB [] 75% 0.6s\u001b[0K\u001b[1G172.5 MiB [] 76% 0.5s\u001b[0K\u001b[1G172.5 MiB [] 77% 0.5s\u001b[0K\u001b[1G172.5 MiB [] 78% 0.5s\u001b[0K\u001b[1G172.5 MiB [] 79% 0.5s\u001b[0K\u001b[1G172.5 MiB [] 80% 0.5s\u001b[0K\u001b[1G172.5 MiB [] 80% 0.4s\u001b[0K\u001b[1G172.5 MiB [] 81% 0.4s\u001b[0K\u001b[1G172.5 MiB [] 82% 0.4s\u001b[0K\u001b[1G172.5 MiB [] 83% 0.4s\u001b[0K\u001b[1G172.5 MiB [] 84% 0.4s\u001b[0K\u001b[1G172.5 MiB [] 85% 0.3s\u001b[0K\u001b[1G172.5 MiB [] 86% 0.3s\u001b[0K\u001b[1G172.5 MiB [] 87% 0.3s\u001b[0K\u001b[1G172.5 MiB [] 88% 0.3s\u001b[0K\u001b[1G172.5 MiB [] 89% 0.3s\u001b[0K\u001b[1G172.5 MiB [] 89% 0.2s\u001b[0K\u001b[1G172.5 MiB [] 90% 0.2s\u001b[0K\u001b[1G172.5 MiB [] 91% 0.2s\u001b[0K\u001b[1G172.5 MiB [] 92% 0.2s\u001b[0K\u001b[1G172.5 MiB [] 93% 0.2s\u001b[0K\u001b[1G172.5 MiB [] 94% 0.1s\u001b[0K\u001b[1G172.5 MiB [] 95% 0.1s\u001b[0K\u001b[1G172.5 MiB [] 96% 0.1s\u001b[0K\u001b[1G172.5 MiB [] 97% 0.1s\u001b[0K\u001b[1G172.5 MiB [] 98% 0.0s\u001b[0K\u001b[1G172.5 MiB [] 99% 0.0s\u001b[0K\u001b[1G172.5 MiB [] 100% 0.0s\u001b[0K\n",
            "Chromium 139.0.7258.5 (playwright build v1181) downloaded to /root/.cache/ms-playwright/chromium-1181\n",
            "Downloading Chromium Headless Shell 139.0.7258.5 (playwright build v1181)\u001b[2m from https://cdn.playwright.dev/dbazure/download/playwright/builds/chromium/1181/chromium-headless-shell-linux.zip\u001b[22m\n",
            "\u001b[1G104.8 MiB [] 0% 0.0s\u001b[0K\u001b[1G104.8 MiB [] 0% 27.4s\u001b[0K\u001b[1G104.8 MiB [] 0% 16.3s\u001b[0K\u001b[1G104.8 MiB [] 0% 10.0s\u001b[0K\u001b[1G104.8 MiB [] 1% 5.9s\u001b[0K\u001b[1G104.8 MiB [] 1% 4.1s\u001b[0K\u001b[1G104.8 MiB [] 2% 3.5s\u001b[0K\u001b[1G104.8 MiB [] 3% 3.2s\u001b[0K\u001b[1G104.8 MiB [] 4% 2.8s\u001b[0K\u001b[1G104.8 MiB [] 5% 2.6s\u001b[0K\u001b[1G104.8 MiB [] 6% 2.5s\u001b[0K\u001b[1G104.8 MiB [] 7% 2.4s\u001b[0K\u001b[1G104.8 MiB [] 8% 2.3s\u001b[0K\u001b[1G104.8 MiB [] 8% 2.5s\u001b[0K\u001b[1G104.8 MiB [] 8% 2.6s\u001b[0K\u001b[1G104.8 MiB [] 9% 2.5s\u001b[0K\u001b[1G104.8 MiB [] 10% 2.6s\u001b[0K\u001b[1G104.8 MiB [] 11% 2.5s\u001b[0K\u001b[1G104.8 MiB [] 11% 2.4s\u001b[0K\u001b[1G104.8 MiB [] 12% 2.5s\u001b[0K\u001b[1G104.8 MiB [] 13% 2.3s\u001b[0K\u001b[1G104.8 MiB [] 14% 2.2s\u001b[0K\u001b[1G104.8 MiB [] 14% 2.3s\u001b[0K\u001b[1G104.8 MiB [] 15% 2.2s\u001b[0K\u001b[1G104.8 MiB [] 16% 2.1s\u001b[0K\u001b[1G104.8 MiB [] 16% 2.2s\u001b[0K\u001b[1G104.8 MiB [] 16% 2.4s\u001b[0K\u001b[1G104.8 MiB [] 16% 2.5s\u001b[0K\u001b[1G104.8 MiB [] 16% 2.6s\u001b[0K\u001b[1G104.8 MiB [] 17% 2.7s\u001b[0K\u001b[1G104.8 MiB [] 17% 2.8s\u001b[0K\u001b[1G104.8 MiB [] 17% 2.9s\u001b[0K\u001b[1G104.8 MiB [] 18% 2.9s\u001b[0K\u001b[1G104.8 MiB [] 18% 3.0s\u001b[0K\u001b[1G104.8 MiB [] 18% 3.1s\u001b[0K\u001b[1G104.8 MiB [] 18% 3.2s\u001b[0K\u001b[1G104.8 MiB [] 19% 3.3s\u001b[0K\u001b[1G104.8 MiB [] 19% 3.4s\u001b[0K\u001b[1G104.8 MiB [] 20% 3.4s\u001b[0K\u001b[1G104.8 MiB [] 20% 3.5s\u001b[0K\u001b[1G104.8 MiB [] 20% 3.6s\u001b[0K\u001b[1G104.8 MiB [] 21% 3.6s\u001b[0K\u001b[1G104.8 MiB [] 21% 3.5s\u001b[0K\u001b[1G104.8 MiB [] 22% 3.5s\u001b[0K\u001b[1G104.8 MiB [] 23% 3.4s\u001b[0K\u001b[1G104.8 MiB [] 24% 3.3s\u001b[0K\u001b[1G104.8 MiB [] 25% 3.3s\u001b[0K\u001b[1G104.8 MiB [] 25% 3.2s\u001b[0K\u001b[1G104.8 MiB [] 26% 3.2s\u001b[0K\u001b[1G104.8 MiB [] 26% 3.1s\u001b[0K\u001b[1G104.8 MiB [] 27% 3.0s\u001b[0K\u001b[1G104.8 MiB [] 28% 3.0s\u001b[0K\u001b[1G104.8 MiB [] 29% 3.0s\u001b[0K\u001b[1G104.8 MiB [] 30% 2.9s\u001b[0K\u001b[1G104.8 MiB [] 31% 2.8s\u001b[0K\u001b[1G104.8 MiB [] 32% 2.7s\u001b[0K\u001b[1G104.8 MiB [] 33% 2.7s\u001b[0K\u001b[1G104.8 MiB [] 34% 2.7s\u001b[0K\u001b[1G104.8 MiB [] 35% 2.6s\u001b[0K\u001b[1G104.8 MiB [] 36% 2.5s\u001b[0K\u001b[1G104.8 MiB [] 37% 2.4s\u001b[0K\u001b[1G104.8 MiB [] 38% 2.4s\u001b[0K\u001b[1G104.8 MiB [] 39% 2.3s\u001b[0K\u001b[1G104.8 MiB [] 40% 2.3s\u001b[0K\u001b[1G104.8 MiB [] 41% 2.3s\u001b[0K\u001b[1G104.8 MiB [] 42% 2.2s\u001b[0K\u001b[1G104.8 MiB [] 43% 2.1s\u001b[0K\u001b[1G104.8 MiB [] 44% 2.1s\u001b[0K\u001b[1G104.8 MiB [] 44% 2.0s\u001b[0K\u001b[1G104.8 MiB [] 45% 2.0s\u001b[0K\u001b[1G104.8 MiB [] 46% 2.0s\u001b[0K\u001b[1G104.8 MiB [] 47% 1.9s\u001b[0K\u001b[1G104.8 MiB [] 48% 1.9s\u001b[0K\u001b[1G104.8 MiB [] 49% 1.9s\u001b[0K\u001b[1G104.8 MiB [] 50% 1.8s\u001b[0K\u001b[1G104.8 MiB [] 50% 1.9s\u001b[0K\u001b[1G104.8 MiB [] 51% 1.9s\u001b[0K\u001b[1G104.8 MiB [] 51% 1.8s\u001b[0K\u001b[1G104.8 MiB [] 52% 1.8s\u001b[0K\u001b[1G104.8 MiB [] 53% 1.8s\u001b[0K\u001b[1G104.8 MiB [] 53% 1.7s\u001b[0K\u001b[1G104.8 MiB [] 54% 1.7s\u001b[0K\u001b[1G104.8 MiB [] 55% 1.7s\u001b[0K\u001b[1G104.8 MiB [] 56% 1.7s\u001b[0K\u001b[1G104.8 MiB [] 56% 1.6s\u001b[0K\u001b[1G104.8 MiB [] 57% 1.6s\u001b[0K\u001b[1G104.8 MiB [] 58% 1.6s\u001b[0K\u001b[1G104.8 MiB [] 59% 1.6s\u001b[0K\u001b[1G104.8 MiB [] 59% 1.5s\u001b[0K\u001b[1G104.8 MiB [] 60% 1.5s\u001b[0K\u001b[1G104.8 MiB [] 61% 1.5s\u001b[0K\u001b[1G104.8 MiB [] 62% 1.4s\u001b[0K\u001b[1G104.8 MiB [] 63% 1.4s\u001b[0K\u001b[1G104.8 MiB [] 64% 1.3s\u001b[0K\u001b[1G104.8 MiB [] 65% 1.3s\u001b[0K\u001b[1G104.8 MiB [] 66% 1.2s\u001b[0K\u001b[1G104.8 MiB [] 67% 1.2s\u001b[0K\u001b[1G104.8 MiB [] 68% 1.1s\u001b[0K\u001b[1G104.8 MiB [] 69% 1.1s\u001b[0K\u001b[1G104.8 MiB [] 70% 1.1s\u001b[0K\u001b[1G104.8 MiB [] 71% 1.0s\u001b[0K\u001b[1G104.8 MiB [] 72% 1.0s\u001b[0K\u001b[1G104.8 MiB [] 73% 1.0s\u001b[0K\u001b[1G104.8 MiB [] 73% 0.9s\u001b[0K\u001b[1G104.8 MiB [] 74% 0.9s\u001b[0K\u001b[1G104.8 MiB [] 75% 0.9s\u001b[0K\u001b[1G104.8 MiB [] 76% 0.9s\u001b[0K\u001b[1G104.8 MiB [] 77% 0.8s\u001b[0K\u001b[1G104.8 MiB [] 78% 0.8s\u001b[0K\u001b[1G104.8 MiB [] 79% 0.8s\u001b[0K\u001b[1G104.8 MiB [] 79% 0.7s\u001b[0K\u001b[1G104.8 MiB [] 80% 0.7s\u001b[0K\u001b[1G104.8 MiB [] 81% 0.6s\u001b[0K\u001b[1G104.8 MiB [] 82% 0.6s\u001b[0K\u001b[1G104.8 MiB [] 83% 0.6s\u001b[0K\u001b[1G104.8 MiB [] 84% 0.5s\u001b[0K\u001b[1G104.8 MiB [] 85% 0.5s\u001b[0K\u001b[1G104.8 MiB [] 86% 0.5s\u001b[0K\u001b[1G104.8 MiB [] 87% 0.5s\u001b[0K\u001b[1G104.8 MiB [] 87% 0.4s\u001b[0K\u001b[1G104.8 MiB [] 88% 0.4s\u001b[0K\u001b[1G104.8 MiB [] 89% 0.4s\u001b[0K\u001b[1G104.8 MiB [] 90% 0.3s\u001b[0K\u001b[1G104.8 MiB [] 91% 0.3s\u001b[0K\u001b[1G104.8 MiB [] 92% 0.3s\u001b[0K\u001b[1G104.8 MiB [] 93% 0.2s\u001b[0K\u001b[1G104.8 MiB [] 94% 0.2s\u001b[0K\u001b[1G104.8 MiB [] 95% 0.2s\u001b[0K\u001b[1G104.8 MiB [] 95% 0.1s\u001b[0K\u001b[1G104.8 MiB [] 96% 0.1s\u001b[0K\u001b[1G104.8 MiB [] 97% 0.1s\u001b[0K\u001b[1G104.8 MiB [] 98% 0.0s\u001b[0K\u001b[1G104.8 MiB [] 99% 0.0s\u001b[0K\u001b[1G104.8 MiB [] 100% 0.0s\u001b[0K\n",
            "Chromium Headless Shell 139.0.7258.5 (playwright build v1181) downloaded to /root/.cache/ms-playwright/chromium_headless_shell-1181\n",
            "Downloading Firefox 140.0.2 (playwright build v1489)\u001b[2m from https://cdn.playwright.dev/dbazure/download/playwright/builds/firefox/1489/firefox-ubuntu-22.04.zip\u001b[22m\n",
            "\u001b[1G92.5 MiB [] 0% 0.0s\u001b[0K\u001b[1G92.5 MiB [] 0% 35.5s\u001b[0K\u001b[1G92.5 MiB [] 0% 38.3s\u001b[0K\u001b[1G92.5 MiB [] 0% 30.1s\u001b[0K\u001b[1G92.5 MiB [] 0% 24.9s\u001b[0K\u001b[1G92.5 MiB [] 0% 30.4s\u001b[0K\u001b[1G92.5 MiB [] 0% 29.7s\u001b[0K\u001b[1G92.5 MiB [] 0% 22.1s\u001b[0K\u001b[1G92.5 MiB [] 0% 18.7s\u001b[0K\u001b[1G92.5 MiB [] 1% 17.6s\u001b[0K\u001b[1G92.5 MiB [] 1% 15.8s\u001b[0K\u001b[1G92.5 MiB [] 1% 14.5s\u001b[0K\u001b[1G92.5 MiB [] 1% 14.3s\u001b[0K\u001b[1G92.5 MiB [] 1% 13.9s\u001b[0K\u001b[1G92.5 MiB [] 2% 13.8s\u001b[0K\u001b[1G92.5 MiB [] 2% 14.1s\u001b[0K\u001b[1G92.5 MiB [] 2% 14.0s\u001b[0K\u001b[1G92.5 MiB [] 2% 13.8s\u001b[0K\u001b[1G92.5 MiB [] 2% 13.4s\u001b[0K\u001b[1G92.5 MiB [] 3% 12.0s\u001b[0K\u001b[1G92.5 MiB [] 3% 11.9s\u001b[0K\u001b[1G92.5 MiB [] 3% 11.3s\u001b[0K\u001b[1G92.5 MiB [] 4% 10.8s\u001b[0K\u001b[1G92.5 MiB [] 4% 9.9s\u001b[0K\u001b[1G92.5 MiB [] 5% 9.6s\u001b[0K\u001b[1G92.5 MiB [] 5% 8.6s\u001b[0K\u001b[1G92.5 MiB [] 6% 8.3s\u001b[0K\u001b[1G92.5 MiB [] 6% 7.9s\u001b[0K\u001b[1G92.5 MiB [] 7% 7.5s\u001b[0K\u001b[1G92.5 MiB [] 7% 7.2s\u001b[0K\u001b[1G92.5 MiB [] 8% 7.1s\u001b[0K\u001b[1G92.5 MiB [] 8% 6.8s\u001b[0K\u001b[1G92.5 MiB [] 9% 6.8s\u001b[0K\u001b[1G92.5 MiB [] 9% 6.7s\u001b[0K\u001b[1G92.5 MiB [] 9% 6.8s\u001b[0K\u001b[1G92.5 MiB [] 10% 6.7s\u001b[0K\u001b[1G92.5 MiB [] 10% 7.0s\u001b[0K\u001b[1G92.5 MiB [] 10% 7.1s\u001b[0K\u001b[1G92.5 MiB [] 10% 7.2s\u001b[0K\u001b[1G92.5 MiB [] 10% 7.3s\u001b[0K\u001b[1G92.5 MiB [] 11% 7.1s\u001b[0K\u001b[1G92.5 MiB [] 11% 7.0s\u001b[0K\u001b[1G92.5 MiB [] 12% 6.9s\u001b[0K\u001b[1G92.5 MiB [] 12% 6.8s\u001b[0K\u001b[1G92.5 MiB [] 13% 6.7s\u001b[0K\u001b[1G92.5 MiB [] 13% 6.4s\u001b[0K\u001b[1G92.5 MiB [] 14% 6.3s\u001b[0K\u001b[1G92.5 MiB [] 14% 6.2s\u001b[0K\u001b[1G92.5 MiB [] 14% 6.3s\u001b[0K\u001b[1G92.5 MiB [] 15% 6.1s\u001b[0K\u001b[1G92.5 MiB [] 16% 5.9s\u001b[0K\u001b[1G92.5 MiB [] 16% 5.8s\u001b[0K\u001b[1G92.5 MiB [] 17% 5.8s\u001b[0K\u001b[1G92.5 MiB [] 17% 5.7s\u001b[0K\u001b[1G92.5 MiB [] 17% 5.8s\u001b[0K\u001b[1G92.5 MiB [] 18% 5.7s\u001b[0K\u001b[1G92.5 MiB [] 19% 5.4s\u001b[0K\u001b[1G92.5 MiB [] 19% 5.3s\u001b[0K\u001b[1G92.5 MiB [] 20% 5.2s\u001b[0K\u001b[1G92.5 MiB [] 20% 5.3s\u001b[0K\u001b[1G92.5 MiB [] 21% 5.3s\u001b[0K\u001b[1G92.5 MiB [] 21% 5.2s\u001b[0K\u001b[1G92.5 MiB [] 22% 5.2s\u001b[0K\u001b[1G92.5 MiB [] 22% 5.1s\u001b[0K\u001b[1G92.5 MiB [] 23% 5.0s\u001b[0K\u001b[1G92.5 MiB [] 24% 4.9s\u001b[0K\u001b[1G92.5 MiB [] 24% 4.7s\u001b[0K\u001b[1G92.5 MiB [] 26% 4.3s\u001b[0K\u001b[1G92.5 MiB [] 28% 4.0s\u001b[0K\u001b[1G92.5 MiB [] 30% 3.7s\u001b[0K\u001b[1G92.5 MiB [] 31% 3.5s\u001b[0K\u001b[1G92.5 MiB [] 32% 3.5s\u001b[0K\u001b[1G92.5 MiB [] 32% 3.4s\u001b[0K\u001b[1G92.5 MiB [] 33% 3.3s\u001b[0K\u001b[1G92.5 MiB [] 34% 3.2s\u001b[0K\u001b[1G92.5 MiB [] 35% 3.1s\u001b[0K\u001b[1G92.5 MiB [] 36% 3.0s\u001b[0K\u001b[1G92.5 MiB [] 37% 3.0s\u001b[0K\u001b[1G92.5 MiB [] 38% 2.9s\u001b[0K\u001b[1G92.5 MiB [] 39% 2.7s\u001b[0K\u001b[1G92.5 MiB [] 40% 2.8s\u001b[0K\u001b[1G92.5 MiB [] 41% 2.7s\u001b[0K\u001b[1G92.5 MiB [] 42% 2.7s\u001b[0K\u001b[1G92.5 MiB [] 43% 2.6s\u001b[0K\u001b[1G92.5 MiB [] 44% 2.5s\u001b[0K\u001b[1G92.5 MiB [] 45% 2.4s\u001b[0K\u001b[1G92.5 MiB [] 46% 2.3s\u001b[0K\u001b[1G92.5 MiB [] 47% 2.3s\u001b[0K\u001b[1G92.5 MiB [] 48% 2.2s\u001b[0K\u001b[1G92.5 MiB [] 48% 2.3s\u001b[0K\u001b[1G92.5 MiB [] 49% 2.2s\u001b[0K\u001b[1G92.5 MiB [] 50% 2.2s\u001b[0K\u001b[1G92.5 MiB [] 51% 2.1s\u001b[0K\u001b[1G92.5 MiB [] 52% 2.1s\u001b[0K\u001b[1G92.5 MiB [] 53% 2.1s\u001b[0K\u001b[1G92.5 MiB [] 53% 2.0s\u001b[0K\u001b[1G92.5 MiB [] 54% 2.0s\u001b[0K\u001b[1G92.5 MiB [] 55% 2.0s\u001b[0K\u001b[1G92.5 MiB [] 56% 1.9s\u001b[0K\u001b[1G92.5 MiB [] 57% 1.8s\u001b[0K\u001b[1G92.5 MiB [] 58% 1.8s\u001b[0K\u001b[1G92.5 MiB [] 59% 1.7s\u001b[0K\u001b[1G92.5 MiB [] 60% 1.7s\u001b[0K\u001b[1G92.5 MiB [] 61% 1.6s\u001b[0K\u001b[1G92.5 MiB [] 62% 1.5s\u001b[0K\u001b[1G92.5 MiB [] 63% 1.5s\u001b[0K\u001b[1G92.5 MiB [] 66% 1.3s\u001b[0K\u001b[1G92.5 MiB [] 67% 1.3s\u001b[0K\u001b[1G92.5 MiB [] 68% 1.2s\u001b[0K\u001b[1G92.5 MiB [] 69% 1.2s\u001b[0K\u001b[1G92.5 MiB [] 70% 1.2s\u001b[0K\u001b[1G92.5 MiB [] 70% 1.1s\u001b[0K\u001b[1G92.5 MiB [] 71% 1.1s\u001b[0K\u001b[1G92.5 MiB [] 73% 1.0s\u001b[0K\u001b[1G92.5 MiB [] 74% 1.0s\u001b[0K\u001b[1G92.5 MiB [] 75% 0.9s\u001b[0K\u001b[1G92.5 MiB [] 76% 0.9s\u001b[0K\u001b[1G92.5 MiB [] 77% 0.8s\u001b[0K\u001b[1G92.5 MiB [] 79% 0.8s\u001b[0K\u001b[1G92.5 MiB [] 80% 0.7s\u001b[0K\u001b[1G92.5 MiB [] 81% 0.7s\u001b[0K\u001b[1G92.5 MiB [] 82% 0.6s\u001b[0K\u001b[1G92.5 MiB [] 84% 0.6s\u001b[0K\u001b[1G92.5 MiB [] 85% 0.5s\u001b[0K\u001b[1G92.5 MiB [] 86% 0.5s\u001b[0K\u001b[1G92.5 MiB [] 88% 0.4s\u001b[0K\u001b[1G92.5 MiB [] 89% 0.4s\u001b[0K\u001b[1G92.5 MiB [] 90% 0.3s\u001b[0K\u001b[1G92.5 MiB [] 92% 0.3s\u001b[0K\u001b[1G92.5 MiB [] 93% 0.2s\u001b[0K\u001b[1G92.5 MiB [] 94% 0.2s\u001b[0K\u001b[1G92.5 MiB [] 95% 0.2s\u001b[0K\u001b[1G92.5 MiB [] 96% 0.1s\u001b[0K\u001b[1G92.5 MiB [] 97% 0.1s\u001b[0K\u001b[1G92.5 MiB [] 98% 0.0s\u001b[0K\u001b[1G92.5 MiB [] 100% 0.0s\u001b[0K\n",
            "Firefox 140.0.2 (playwright build v1489) downloaded to /root/.cache/ms-playwright/firefox-1489\n",
            "Downloading Webkit 26.0 (playwright build v2191)\u001b[2m from https://cdn.playwright.dev/dbazure/download/playwright/builds/webkit/2191/webkit-ubuntu-22.04.zip\u001b[22m\n",
            "\u001b[1G94.4 MiB [] 0% 0.0s\u001b[0K\u001b[1G94.4 MiB [] 0% 40.0s\u001b[0K\u001b[1G94.4 MiB [] 0% 47.9s\u001b[0K\u001b[1G94.4 MiB [] 0% 52.3s\u001b[0K\u001b[1G94.4 MiB [] 0% 34.2s\u001b[0K\u001b[1G94.4 MiB [] 0% 24.7s\u001b[0K\u001b[1G94.4 MiB [] 0% 17.5s\u001b[0K\u001b[1G94.4 MiB [] 0% 11.8s\u001b[0K\u001b[1G94.4 MiB [] 1% 8.0s\u001b[0K\u001b[1G94.4 MiB [] 2% 7.8s\u001b[0K\u001b[1G94.4 MiB [] 2% 6.5s\u001b[0K\u001b[1G94.4 MiB [] 3% 6.0s\u001b[0K\u001b[1G94.4 MiB [] 3% 5.8s\u001b[0K\u001b[1G94.4 MiB [] 4% 5.0s\u001b[0K\u001b[1G94.4 MiB [] 5% 4.4s\u001b[0K\u001b[1G94.4 MiB [] 6% 4.1s\u001b[0K\u001b[1G94.4 MiB [] 7% 3.8s\u001b[0K\u001b[1G94.4 MiB [] 7% 3.6s\u001b[0K\u001b[1G94.4 MiB [] 8% 3.6s\u001b[0K\u001b[1G94.4 MiB [] 9% 3.5s\u001b[0K\u001b[1G94.4 MiB [] 9% 3.4s\u001b[0K\u001b[1G94.4 MiB [] 9% 3.6s\u001b[0K\u001b[1G94.4 MiB [] 10% 3.4s\u001b[0K\u001b[1G94.4 MiB [] 11% 3.2s\u001b[0K\u001b[1G94.4 MiB [] 12% 3.1s\u001b[0K\u001b[1G94.4 MiB [] 13% 3.0s\u001b[0K\u001b[1G94.4 MiB [] 14% 2.8s\u001b[0K\u001b[1G94.4 MiB [] 15% 2.8s\u001b[0K\u001b[1G94.4 MiB [] 16% 2.6s\u001b[0K\u001b[1G94.4 MiB [] 17% 2.5s\u001b[0K\u001b[1G94.4 MiB [] 18% 2.4s\u001b[0K\u001b[1G94.4 MiB [] 19% 2.3s\u001b[0K\u001b[1G94.4 MiB [] 21% 2.2s\u001b[0K\u001b[1G94.4 MiB [] 22% 2.1s\u001b[0K\u001b[1G94.4 MiB [] 23% 2.0s\u001b[0K\u001b[1G94.4 MiB [] 24% 1.9s\u001b[0K\u001b[1G94.4 MiB [] 25% 1.9s\u001b[0K\u001b[1G94.4 MiB [] 26% 1.9s\u001b[0K\u001b[1G94.4 MiB [] 27% 1.8s\u001b[0K\u001b[1G94.4 MiB [] 28% 1.7s\u001b[0K\u001b[1G94.4 MiB [] 29% 1.7s\u001b[0K\u001b[1G94.4 MiB [] 30% 1.7s\u001b[0K\u001b[1G94.4 MiB [] 32% 1.6s\u001b[0K\u001b[1G94.4 MiB [] 33% 1.6s\u001b[0K\u001b[1G94.4 MiB [] 34% 1.5s\u001b[0K\u001b[1G94.4 MiB [] 35% 1.5s\u001b[0K\u001b[1G94.4 MiB [] 36% 1.5s\u001b[0K\u001b[1G94.4 MiB [] 37% 1.5s\u001b[0K\u001b[1G94.4 MiB [] 38% 1.5s\u001b[0K\u001b[1G94.4 MiB [] 39% 1.4s\u001b[0K\u001b[1G94.4 MiB [] 39% 1.5s\u001b[0K\u001b[1G94.4 MiB [] 40% 1.5s\u001b[0K\u001b[1G94.4 MiB [] 41% 1.4s\u001b[0K\u001b[1G94.4 MiB [] 42% 1.4s\u001b[0K\u001b[1G94.4 MiB [] 43% 1.4s\u001b[0K\u001b[1G94.4 MiB [] 44% 1.4s\u001b[0K\u001b[1G94.4 MiB [] 45% 1.4s\u001b[0K\u001b[1G94.4 MiB [] 46% 1.4s\u001b[0K\u001b[1G94.4 MiB [] 47% 1.4s\u001b[0K\u001b[1G94.4 MiB [] 48% 1.3s\u001b[0K\u001b[1G94.4 MiB [] 50% 1.3s\u001b[0K\u001b[1G94.4 MiB [] 51% 1.3s\u001b[0K\u001b[1G94.4 MiB [] 52% 1.3s\u001b[0K\u001b[1G94.4 MiB [] 54% 1.3s\u001b[0K\u001b[1G94.4 MiB [] 55% 1.3s\u001b[0K\u001b[1G94.4 MiB [] 55% 1.2s\u001b[0K\u001b[1G94.4 MiB [] 57% 1.2s\u001b[0K\u001b[1G94.4 MiB [] 58% 1.1s\u001b[0K\u001b[1G94.4 MiB [] 59% 1.1s\u001b[0K\u001b[1G94.4 MiB [] 61% 1.1s\u001b[0K\u001b[1G94.4 MiB [] 62% 1.0s\u001b[0K\u001b[1G94.4 MiB [] 63% 1.0s\u001b[0K\u001b[1G94.4 MiB [] 64% 0.9s\u001b[0K\u001b[1G94.4 MiB [] 66% 0.9s\u001b[0K\u001b[1G94.4 MiB [] 67% 0.9s\u001b[0K\u001b[1G94.4 MiB [] 68% 0.8s\u001b[0K\u001b[1G94.4 MiB [] 69% 0.8s\u001b[0K\u001b[1G94.4 MiB [] 70% 0.8s\u001b[0K\u001b[1G94.4 MiB [] 71% 0.7s\u001b[0K\u001b[1G94.4 MiB [] 72% 0.7s\u001b[0K\u001b[1G94.4 MiB [] 74% 0.7s\u001b[0K\u001b[1G94.4 MiB [] 74% 0.6s\u001b[0K\u001b[1G94.4 MiB [] 76% 0.6s\u001b[0K\u001b[1G94.4 MiB [] 77% 0.6s\u001b[0K\u001b[1G94.4 MiB [] 78% 0.6s\u001b[0K\u001b[1G94.4 MiB [] 79% 0.5s\u001b[0K\u001b[1G94.4 MiB [] 80% 0.5s\u001b[0K\u001b[1G94.4 MiB [] 82% 0.4s\u001b[0K\u001b[1G94.4 MiB [] 83% 0.4s\u001b[0K\u001b[1G94.4 MiB [] 84% 0.4s\u001b[0K\u001b[1G94.4 MiB [] 86% 0.3s\u001b[0K\u001b[1G94.4 MiB [] 87% 0.3s\u001b[0K\u001b[1G94.4 MiB [] 88% 0.3s\u001b[0K\u001b[1G94.4 MiB [] 89% 0.2s\u001b[0K\u001b[1G94.4 MiB [] 91% 0.2s\u001b[0K\u001b[1G94.4 MiB [] 93% 0.2s\u001b[0K\u001b[1G94.4 MiB [] 94% 0.1s\u001b[0K\u001b[1G94.4 MiB [] 95% 0.1s\u001b[0K\u001b[1G94.4 MiB [] 97% 0.1s\u001b[0K\u001b[1G94.4 MiB [] 99% 0.0s\u001b[0K\u001b[1G94.4 MiB [] 100% 0.0s\u001b[0K\n",
            "Webkit 26.0 (playwright build v2191) downloaded to /root/.cache/ms-playwright/webkit-2191\n",
            "Downloading FFMPEG playwright build v1011\u001b[2m from https://cdn.playwright.dev/dbazure/download/playwright/builds/ffmpeg/1011/ffmpeg-linux.zip\u001b[22m\n",
            "\u001b[1G2.3 MiB [] 0% 0.0s\u001b[0K\u001b[1G2.3 MiB [] 2% 0.7s\u001b[0K\u001b[1G2.3 MiB [] 3% 0.9s\u001b[0K\u001b[1G2.3 MiB [] 5% 0.9s\u001b[0K\u001b[1G2.3 MiB [] 8% 0.7s\u001b[0K\u001b[1G2.3 MiB [] 14% 0.5s\u001b[0K\u001b[1G2.3 MiB [] 26% 0.3s\u001b[0K\u001b[1G2.3 MiB [] 42% 0.2s\u001b[0K\u001b[1G2.3 MiB [] 80% 0.0s\u001b[0K\u001b[1G2.3 MiB [] 100% 0.0s\u001b[0K\n",
            "FFMPEG playwright build v1011 downloaded to /root/.cache/ms-playwright/ffmpeg-1011\n",
            "Playwright Host validation warning: \n",
            "╔══════════════════════════════════════════════════════╗\n",
            "║ Host system is missing dependencies to run browsers. ║\n",
            "║ Missing libraries:                                   ║\n",
            "║     libwoff2dec.so.1.0.2                             ║\n",
            "║     libgstgl-1.0.so.0                                ║\n",
            "║     libgstcodecparsers-1.0.so.0                      ║\n",
            "║     libavif.so.13                                    ║\n",
            "║     libharfbuzz-icu.so.0                             ║\n",
            "║     libenchant-2.so.2                                ║\n",
            "║     libsecret-1.so.0                                 ║\n",
            "║     libhyphen.so.0                                   ║\n",
            "║     libmanette-0.2.so.0                              ║\n",
            "╚══════════════════════════════════════════════════════╝\n",
            "    at validateDependenciesLinux (/usr/local/lib/python3.11/dist-packages/playwright/driver/package/lib/server/registry/dependencies.js:269:9)\n",
            "    at async Registry._validateHostRequirements (/usr/local/lib/python3.11/dist-packages/playwright/driver/package/lib/server/registry/index.js:914:14)\n",
            "    at async Registry._validateHostRequirementsForExecutableIfNeeded (/usr/local/lib/python3.11/dist-packages/playwright/driver/package/lib/server/registry/index.js:1036:7)\n",
            "    at async Registry.validateHostRequirementsForExecutablesIfNeeded (/usr/local/lib/python3.11/dist-packages/playwright/driver/package/lib/server/registry/index.js:1025:7)\n",
            "    at async i.<anonymous> (/usr/local/lib/python3.11/dist-packages/playwright/driver/package/lib/cli/program.js:222:7)\n"
          ]
        }
      ]
    },
    {
      "cell_type": "code",
      "source": [
        "import nest_asyncio\n",
        "import asyncio\n",
        "from playwright.async_api import async_playwright\n",
        "import pandas as pd\n",
        "import time\n",
        "\n",
        "nest_asyncio.apply()\n",
        "\n",
        "products_details = []\n",
        "PAGES = 4\n",
        "\n",
        "async def scrape_jumia_smartwatches():\n",
        "    global products_details\n",
        "    async with async_playwright() as p:\n",
        "        browser = await p.chromium.launch(headless=True) #Launching a Chromium browser.\n",
        "        context = await browser.new_context(user_agent=\"Mozilla/5.0 (Windows NT 10.0; Win64; x64) AppleWebKit/537.36 (KHTML, like Gecko) Chrome/138.0.0.0 Safari/537.36\") #Opening a new browser profile.\n",
        "        page = await context.new_page() #\tOpens a new browser tab.\n",
        "\n",
        "        for page_number in range(1, PAGES + 1):\n",
        "            url = f\"https://www.jumia.com.eg/catalog/?q=smart+watch&page={page_number}\"\n",
        "            print(f\"\\n Scraping page {page_number}\")\n",
        "\n",
        "            try:\n",
        "                await page.goto(url) #The browser goes to the specified url\n",
        "                await page.wait_for_selector(\"article.prd\", timeout=10000) #Wait until product items appear on the page.\n",
        "            except Exception as e:\n",
        "                print(f\" Failed to load page {page_number}: {e}\")\n",
        "                continue\n",
        "\n",
        "            #Selects all product with the class: article.prd\n",
        "            products = await page.query_selector_all(\"article.prd\")\n",
        "            page_product_count = 0\n",
        "\n",
        "            for product in products:\n",
        "                try:\n",
        "                    #Get product name\n",
        "                    product_name = await product.query_selector(\"h3.name\")\n",
        "                    name = await product_name.inner_text() if product_name else \"No Name Found\"\n",
        "\n",
        "                    #Get product price\n",
        "                    product_price = await product.query_selector(\"div.prc\")\n",
        "                    price = await product_price.inner_text() if product_price else \"No Price Found\"\n",
        "\n",
        "                    #Get product rate\n",
        "                    product_rate = await product.query_selector(\"div.stars\")\n",
        "                    rate = await product_rate.inner_text() if product_rate else \"No Rating Found\"\n",
        "\n",
        "                    #Get product discount\n",
        "                    product_discount = await product.query_selector(\"div.bdg._dsct._sm\")\n",
        "                    discount = await product_discount.inner_text() if product_discount else \"No Discount\"\n",
        "\n",
        "                    # Get link from image data-src\n",
        "                    img_link = await product.query_selector(\"a.core\")\n",
        "                    href = await img_link.get_attribute(\"href\") if img_link else None\n",
        "                    link = f\"https://www.jumia.com.eg{href}\" if href else \"No Link\"\n",
        "\n",
        "                    # Get image URL from img tag inside div.img-c\n",
        "                    img_container = await product.query_selector(\"div.img-c img\")\n",
        "                    img_url = await img_container.get_attribute(\"data-src\") if img_container else \"No Image\"\n",
        "\n",
        "                    products_details.append({\n",
        "                        \"Website\": \"Jumia\",\n",
        "                        \"Product Name\": name.strip(),\n",
        "                        \"Price\": price.strip(),\n",
        "                        \"Discount\": discount.strip(),\n",
        "                        \"Rating\": rate.strip(),\n",
        "                        \"Product URL\": link,\n",
        "                        \"Image URL\": img_url\n",
        "                    })\n",
        "\n",
        "                    page_product_count += 1\n",
        "\n",
        "                except Exception as e:\n",
        "                    print(f\"Error parsing a product on page {page_number}: {e}\")\n",
        "\n",
        "            print(f\"Page {page_number}: Scraped {page_product_count} products.\")\n",
        "            await asyncio.sleep(1) #waits 1 second to keeps the requests below 200 per min.\n",
        "\n",
        "        await browser.close() #close the browser one finished\n",
        "\n",
        "# Run scraper\n",
        "start_time = time.time()\n",
        "await scrape_jumia_smartwatches()\n",
        "end_time = time.time()\n",
        "\n",
        "# Save to CSV\n",
        "df = pd.DataFrame(products_details)\n",
        "df.to_csv(\"jumia_smartwatches_playwright.csv\", index=False)\n",
        "\n",
        "print(f\"\\n Finished scraping {len(products_details)} products in {round(end_time - start_time, 2)} seconds.\")\n",
        "print(\" Saved to 'jumia_smartwatches_playwright.csv'\")\n"
      ],
      "metadata": {
        "id": "---EV9_esSuK",
        "colab": {
          "base_uri": "https://localhost:8080/"
        },
        "outputId": "b0645535-68b8-4664-fae4-18671d37d86c"
      },
      "execution_count": null,
      "outputs": [
        {
          "output_type": "stream",
          "name": "stdout",
          "text": [
            "\n",
            " Scraping page 1\n",
            "Page 1: Scraped 43 products.\n",
            "\n",
            " Scraping page 2\n",
            "Page 2: Scraped 40 products.\n",
            "\n",
            " Scraping page 3\n",
            "Page 3: Scraped 40 products.\n",
            "\n",
            " Scraping page 4\n",
            "Page 4: Scraped 40 products.\n",
            "\n",
            " Finished scraping 163 products in 79.72 seconds.\n",
            " Saved to 'jumia_smartwatches_playwright.csv'\n"
          ]
        }
      ]
    },
    {
      "cell_type": "code",
      "source": [],
      "metadata": {
        "id": "ePWyMQC3GRK0"
      },
      "execution_count": null,
      "outputs": []
    }
  ]
}